{
 "cells": [
  {
   "cell_type": "code",
   "execution_count": 1,
   "id": "7740382b",
   "metadata": {},
   "outputs": [],
   "source": [
    "import pandas as pd\n",
    "import matplotlib.pyplot as plt\n",
    "import tensorflow as tf\n",
    "from tensorflow.keras.models import Sequential\n",
    "from tensorflow.keras.layers import Dense, Flatten"
   ]
  },
  {
   "cell_type": "code",
   "execution_count": 2,
   "id": "314ae423",
   "metadata": {},
   "outputs": [],
   "source": [
    "train = pd.read_csv('CIFARtrain.csv')\n",
    "test = pd.read_csv('CIFARtest.csv')"
   ]
  },
  {
   "cell_type": "code",
   "execution_count": 3,
   "id": "b94463ae",
   "metadata": {},
   "outputs": [
    {
     "data": {
      "text/html": [
       "<div>\n",
       "<style scoped>\n",
       "    .dataframe tbody tr th:only-of-type {\n",
       "        vertical-align: middle;\n",
       "    }\n",
       "\n",
       "    .dataframe tbody tr th {\n",
       "        vertical-align: top;\n",
       "    }\n",
       "\n",
       "    .dataframe thead th {\n",
       "        text-align: right;\n",
       "    }\n",
       "</style>\n",
       "<table border=\"1\" class=\"dataframe\">\n",
       "  <thead>\n",
       "    <tr style=\"text-align: right;\">\n",
       "      <th></th>\n",
       "      <th>pixel_0</th>\n",
       "      <th>pixel_1</th>\n",
       "      <th>pixel_2</th>\n",
       "      <th>pixel_3</th>\n",
       "      <th>pixel_4</th>\n",
       "      <th>pixel_5</th>\n",
       "      <th>pixel_6</th>\n",
       "      <th>pixel_7</th>\n",
       "      <th>pixel_8</th>\n",
       "      <th>pixel_9</th>\n",
       "      <th>...</th>\n",
       "      <th>pixel_3063</th>\n",
       "      <th>pixel_3064</th>\n",
       "      <th>pixel_3065</th>\n",
       "      <th>pixel_3066</th>\n",
       "      <th>pixel_3067</th>\n",
       "      <th>pixel_3068</th>\n",
       "      <th>pixel_3069</th>\n",
       "      <th>pixel_3070</th>\n",
       "      <th>pixel_3071</th>\n",
       "      <th>label</th>\n",
       "    </tr>\n",
       "  </thead>\n",
       "  <tbody>\n",
       "    <tr>\n",
       "      <th>0</th>\n",
       "      <td>59</td>\n",
       "      <td>43</td>\n",
       "      <td>50</td>\n",
       "      <td>68</td>\n",
       "      <td>98</td>\n",
       "      <td>119</td>\n",
       "      <td>139</td>\n",
       "      <td>145</td>\n",
       "      <td>149</td>\n",
       "      <td>149</td>\n",
       "      <td>...</td>\n",
       "      <td>58</td>\n",
       "      <td>65</td>\n",
       "      <td>59</td>\n",
       "      <td>46</td>\n",
       "      <td>57</td>\n",
       "      <td>104</td>\n",
       "      <td>140</td>\n",
       "      <td>84</td>\n",
       "      <td>72</td>\n",
       "      <td>6</td>\n",
       "    </tr>\n",
       "    <tr>\n",
       "      <th>1</th>\n",
       "      <td>154</td>\n",
       "      <td>126</td>\n",
       "      <td>105</td>\n",
       "      <td>102</td>\n",
       "      <td>125</td>\n",
       "      <td>155</td>\n",
       "      <td>172</td>\n",
       "      <td>180</td>\n",
       "      <td>142</td>\n",
       "      <td>111</td>\n",
       "      <td>...</td>\n",
       "      <td>42</td>\n",
       "      <td>67</td>\n",
       "      <td>101</td>\n",
       "      <td>122</td>\n",
       "      <td>133</td>\n",
       "      <td>136</td>\n",
       "      <td>139</td>\n",
       "      <td>142</td>\n",
       "      <td>144</td>\n",
       "      <td>9</td>\n",
       "    </tr>\n",
       "    <tr>\n",
       "      <th>2</th>\n",
       "      <td>255</td>\n",
       "      <td>253</td>\n",
       "      <td>253</td>\n",
       "      <td>253</td>\n",
       "      <td>253</td>\n",
       "      <td>253</td>\n",
       "      <td>253</td>\n",
       "      <td>253</td>\n",
       "      <td>253</td>\n",
       "      <td>253</td>\n",
       "      <td>...</td>\n",
       "      <td>83</td>\n",
       "      <td>80</td>\n",
       "      <td>69</td>\n",
       "      <td>66</td>\n",
       "      <td>72</td>\n",
       "      <td>79</td>\n",
       "      <td>83</td>\n",
       "      <td>83</td>\n",
       "      <td>84</td>\n",
       "      <td>9</td>\n",
       "    </tr>\n",
       "    <tr>\n",
       "      <th>3</th>\n",
       "      <td>28</td>\n",
       "      <td>37</td>\n",
       "      <td>38</td>\n",
       "      <td>42</td>\n",
       "      <td>44</td>\n",
       "      <td>40</td>\n",
       "      <td>40</td>\n",
       "      <td>24</td>\n",
       "      <td>32</td>\n",
       "      <td>43</td>\n",
       "      <td>...</td>\n",
       "      <td>39</td>\n",
       "      <td>59</td>\n",
       "      <td>42</td>\n",
       "      <td>44</td>\n",
       "      <td>48</td>\n",
       "      <td>38</td>\n",
       "      <td>28</td>\n",
       "      <td>37</td>\n",
       "      <td>46</td>\n",
       "      <td>4</td>\n",
       "    </tr>\n",
       "    <tr>\n",
       "      <th>4</th>\n",
       "      <td>170</td>\n",
       "      <td>168</td>\n",
       "      <td>177</td>\n",
       "      <td>183</td>\n",
       "      <td>181</td>\n",
       "      <td>177</td>\n",
       "      <td>181</td>\n",
       "      <td>184</td>\n",
       "      <td>189</td>\n",
       "      <td>189</td>\n",
       "      <td>...</td>\n",
       "      <td>88</td>\n",
       "      <td>85</td>\n",
       "      <td>82</td>\n",
       "      <td>83</td>\n",
       "      <td>79</td>\n",
       "      <td>78</td>\n",
       "      <td>82</td>\n",
       "      <td>78</td>\n",
       "      <td>80</td>\n",
       "      <td>1</td>\n",
       "    </tr>\n",
       "  </tbody>\n",
       "</table>\n",
       "<p>5 rows × 3073 columns</p>\n",
       "</div>"
      ],
      "text/plain": [
       "   pixel_0  pixel_1  pixel_2  pixel_3  pixel_4  pixel_5  pixel_6  pixel_7  \\\n",
       "0       59       43       50       68       98      119      139      145   \n",
       "1      154      126      105      102      125      155      172      180   \n",
       "2      255      253      253      253      253      253      253      253   \n",
       "3       28       37       38       42       44       40       40       24   \n",
       "4      170      168      177      183      181      177      181      184   \n",
       "\n",
       "   pixel_8  pixel_9  ...  pixel_3063  pixel_3064  pixel_3065  pixel_3066  \\\n",
       "0      149      149  ...          58          65          59          46   \n",
       "1      142      111  ...          42          67         101         122   \n",
       "2      253      253  ...          83          80          69          66   \n",
       "3       32       43  ...          39          59          42          44   \n",
       "4      189      189  ...          88          85          82          83   \n",
       "\n",
       "   pixel_3067  pixel_3068  pixel_3069  pixel_3070  pixel_3071  label  \n",
       "0          57         104         140          84          72      6  \n",
       "1         133         136         139         142         144      9  \n",
       "2          72          79          83          83          84      9  \n",
       "3          48          38          28          37          46      4  \n",
       "4          79          78          82          78          80      1  \n",
       "\n",
       "[5 rows x 3073 columns]"
      ]
     },
     "execution_count": 3,
     "metadata": {},
     "output_type": "execute_result"
    }
   ],
   "source": [
    "train.head()"
   ]
  },
  {
   "cell_type": "code",
   "execution_count": 4,
   "id": "7701dc0a",
   "metadata": {},
   "outputs": [
    {
     "data": {
      "text/html": [
       "<div>\n",
       "<style scoped>\n",
       "    .dataframe tbody tr th:only-of-type {\n",
       "        vertical-align: middle;\n",
       "    }\n",
       "\n",
       "    .dataframe tbody tr th {\n",
       "        vertical-align: top;\n",
       "    }\n",
       "\n",
       "    .dataframe thead th {\n",
       "        text-align: right;\n",
       "    }\n",
       "</style>\n",
       "<table border=\"1\" class=\"dataframe\">\n",
       "  <thead>\n",
       "    <tr style=\"text-align: right;\">\n",
       "      <th></th>\n",
       "      <th>pixel_0</th>\n",
       "      <th>pixel_1</th>\n",
       "      <th>pixel_2</th>\n",
       "      <th>pixel_3</th>\n",
       "      <th>pixel_4</th>\n",
       "      <th>pixel_5</th>\n",
       "      <th>pixel_6</th>\n",
       "      <th>pixel_7</th>\n",
       "      <th>pixel_8</th>\n",
       "      <th>pixel_9</th>\n",
       "      <th>...</th>\n",
       "      <th>pixel_3062</th>\n",
       "      <th>pixel_3063</th>\n",
       "      <th>pixel_3064</th>\n",
       "      <th>pixel_3065</th>\n",
       "      <th>pixel_3066</th>\n",
       "      <th>pixel_3067</th>\n",
       "      <th>pixel_3068</th>\n",
       "      <th>pixel_3069</th>\n",
       "      <th>pixel_3070</th>\n",
       "      <th>pixel_3071</th>\n",
       "    </tr>\n",
       "  </thead>\n",
       "  <tbody>\n",
       "    <tr>\n",
       "      <th>0</th>\n",
       "      <td>59</td>\n",
       "      <td>43</td>\n",
       "      <td>50</td>\n",
       "      <td>68</td>\n",
       "      <td>98</td>\n",
       "      <td>119</td>\n",
       "      <td>139</td>\n",
       "      <td>145</td>\n",
       "      <td>149</td>\n",
       "      <td>149</td>\n",
       "      <td>...</td>\n",
       "      <td>59</td>\n",
       "      <td>58</td>\n",
       "      <td>65</td>\n",
       "      <td>59</td>\n",
       "      <td>46</td>\n",
       "      <td>57</td>\n",
       "      <td>104</td>\n",
       "      <td>140</td>\n",
       "      <td>84</td>\n",
       "      <td>72</td>\n",
       "    </tr>\n",
       "    <tr>\n",
       "      <th>1</th>\n",
       "      <td>154</td>\n",
       "      <td>126</td>\n",
       "      <td>105</td>\n",
       "      <td>102</td>\n",
       "      <td>125</td>\n",
       "      <td>155</td>\n",
       "      <td>172</td>\n",
       "      <td>180</td>\n",
       "      <td>142</td>\n",
       "      <td>111</td>\n",
       "      <td>...</td>\n",
       "      <td>22</td>\n",
       "      <td>42</td>\n",
       "      <td>67</td>\n",
       "      <td>101</td>\n",
       "      <td>122</td>\n",
       "      <td>133</td>\n",
       "      <td>136</td>\n",
       "      <td>139</td>\n",
       "      <td>142</td>\n",
       "      <td>144</td>\n",
       "    </tr>\n",
       "    <tr>\n",
       "      <th>2</th>\n",
       "      <td>255</td>\n",
       "      <td>253</td>\n",
       "      <td>253</td>\n",
       "      <td>253</td>\n",
       "      <td>253</td>\n",
       "      <td>253</td>\n",
       "      <td>253</td>\n",
       "      <td>253</td>\n",
       "      <td>253</td>\n",
       "      <td>253</td>\n",
       "      <td>...</td>\n",
       "      <td>78</td>\n",
       "      <td>83</td>\n",
       "      <td>80</td>\n",
       "      <td>69</td>\n",
       "      <td>66</td>\n",
       "      <td>72</td>\n",
       "      <td>79</td>\n",
       "      <td>83</td>\n",
       "      <td>83</td>\n",
       "      <td>84</td>\n",
       "    </tr>\n",
       "    <tr>\n",
       "      <th>3</th>\n",
       "      <td>28</td>\n",
       "      <td>37</td>\n",
       "      <td>38</td>\n",
       "      <td>42</td>\n",
       "      <td>44</td>\n",
       "      <td>40</td>\n",
       "      <td>40</td>\n",
       "      <td>24</td>\n",
       "      <td>32</td>\n",
       "      <td>43</td>\n",
       "      <td>...</td>\n",
       "      <td>53</td>\n",
       "      <td>39</td>\n",
       "      <td>59</td>\n",
       "      <td>42</td>\n",
       "      <td>44</td>\n",
       "      <td>48</td>\n",
       "      <td>38</td>\n",
       "      <td>28</td>\n",
       "      <td>37</td>\n",
       "      <td>46</td>\n",
       "    </tr>\n",
       "    <tr>\n",
       "      <th>4</th>\n",
       "      <td>170</td>\n",
       "      <td>168</td>\n",
       "      <td>177</td>\n",
       "      <td>183</td>\n",
       "      <td>181</td>\n",
       "      <td>177</td>\n",
       "      <td>181</td>\n",
       "      <td>184</td>\n",
       "      <td>189</td>\n",
       "      <td>189</td>\n",
       "      <td>...</td>\n",
       "      <td>92</td>\n",
       "      <td>88</td>\n",
       "      <td>85</td>\n",
       "      <td>82</td>\n",
       "      <td>83</td>\n",
       "      <td>79</td>\n",
       "      <td>78</td>\n",
       "      <td>82</td>\n",
       "      <td>78</td>\n",
       "      <td>80</td>\n",
       "    </tr>\n",
       "  </tbody>\n",
       "</table>\n",
       "<p>5 rows × 3072 columns</p>\n",
       "</div>"
      ],
      "text/plain": [
       "   pixel_0  pixel_1  pixel_2  pixel_3  pixel_4  pixel_5  pixel_6  pixel_7  \\\n",
       "0       59       43       50       68       98      119      139      145   \n",
       "1      154      126      105      102      125      155      172      180   \n",
       "2      255      253      253      253      253      253      253      253   \n",
       "3       28       37       38       42       44       40       40       24   \n",
       "4      170      168      177      183      181      177      181      184   \n",
       "\n",
       "   pixel_8  pixel_9  ...  pixel_3062  pixel_3063  pixel_3064  pixel_3065  \\\n",
       "0      149      149  ...          59          58          65          59   \n",
       "1      142      111  ...          22          42          67         101   \n",
       "2      253      253  ...          78          83          80          69   \n",
       "3       32       43  ...          53          39          59          42   \n",
       "4      189      189  ...          92          88          85          82   \n",
       "\n",
       "   pixel_3066  pixel_3067  pixel_3068  pixel_3069  pixel_3070  pixel_3071  \n",
       "0          46          57         104         140          84          72  \n",
       "1         122         133         136         139         142         144  \n",
       "2          66          72          79          83          83          84  \n",
       "3          44          48          38          28          37          46  \n",
       "4          83          79          78          82          78          80  \n",
       "\n",
       "[5 rows x 3072 columns]"
      ]
     },
     "execution_count": 4,
     "metadata": {},
     "output_type": "execute_result"
    }
   ],
   "source": [
    "x_train = train.iloc[:,0:3072]\n",
    "x_train.head()"
   ]
  },
  {
   "cell_type": "code",
   "execution_count": 5,
   "id": "ad196274",
   "metadata": {},
   "outputs": [],
   "source": [
    "x_test = test.iloc[:,0:3072]"
   ]
  },
  {
   "cell_type": "code",
   "execution_count": 6,
   "id": "deedceb3",
   "metadata": {},
   "outputs": [],
   "source": [
    "y_train = train['label']"
   ]
  },
  {
   "cell_type": "code",
   "execution_count": 7,
   "id": "b308a2f7",
   "metadata": {},
   "outputs": [
    {
     "data": {
      "text/plain": [
       "(50000, 3072)"
      ]
     },
     "execution_count": 7,
     "metadata": {},
     "output_type": "execute_result"
    }
   ],
   "source": [
    "x_train.shape"
   ]
  },
  {
   "cell_type": "code",
   "execution_count": 8,
   "id": "0cc08993",
   "metadata": {},
   "outputs": [
    {
     "data": {
      "text/plain": [
       "(10000, 3072)"
      ]
     },
     "execution_count": 8,
     "metadata": {},
     "output_type": "execute_result"
    }
   ],
   "source": [
    "x_test.shape"
   ]
  },
  {
   "cell_type": "code",
   "execution_count": 9,
   "id": "c4b2b911",
   "metadata": {},
   "outputs": [],
   "source": [
    "x_train = x_train.astype('float32')/255\n",
    "x_test = x_test.astype('float32')/255"
   ]
  },
  {
   "cell_type": "code",
   "execution_count": 10,
   "id": "cc7583b6",
   "metadata": {},
   "outputs": [],
   "source": [
    "model = Sequential()\n",
    "model.add(Flatten(input_shape = (3072,)))\n",
    "model.add(Dense(50,activation = 'relu'))\n",
    "model.add(Dense(20,activation = 'relu'))\n",
    "model.add(Dense(10,activation = 'softmax'))"
   ]
  },
  {
   "cell_type": "code",
   "execution_count": 11,
   "id": "e326f80c",
   "metadata": {},
   "outputs": [],
   "source": [
    "model.compile(optimizer = 'sgd', loss = 'categorical_crossentropy', metrics = ['accuracy'])"
   ]
  },
  {
   "cell_type": "code",
   "execution_count": 12,
   "id": "9302c70b",
   "metadata": {},
   "outputs": [
    {
     "name": "stdout",
     "output_type": "stream",
     "text": [
      "Epoch 1/30\n",
      "500/500 [==============================] - 2s 3ms/step - loss: 2.0560 - accuracy: 0.2551\n",
      "Epoch 2/30\n",
      "500/500 [==============================] - 2s 3ms/step - loss: 1.8616 - accuracy: 0.3358\n",
      "Epoch 3/30\n",
      "500/500 [==============================] - 2s 3ms/step - loss: 1.7994 - accuracy: 0.3607\n",
      "Epoch 4/30\n",
      "500/500 [==============================] - 1s 3ms/step - loss: 1.7575 - accuracy: 0.3756\n",
      "Epoch 5/30\n",
      "500/500 [==============================] - 1s 3ms/step - loss: 1.7229 - accuracy: 0.3897\n",
      "Epoch 6/30\n",
      "500/500 [==============================] - 1s 2ms/step - loss: 1.6890 - accuracy: 0.4009\n",
      "Epoch 7/30\n",
      "500/500 [==============================] - 1s 2ms/step - loss: 1.6620 - accuracy: 0.4131\n",
      "Epoch 8/30\n",
      "500/500 [==============================] - 1s 2ms/step - loss: 1.6436 - accuracy: 0.4183\n",
      "Epoch 9/30\n",
      "500/500 [==============================] - 1s 2ms/step - loss: 1.6203 - accuracy: 0.4276\n",
      "Epoch 10/30\n",
      "500/500 [==============================] - 1s 3ms/step - loss: 1.6022 - accuracy: 0.4331\n",
      "Epoch 11/30\n",
      "500/500 [==============================] - 1s 2ms/step - loss: 1.5856 - accuracy: 0.4398\n",
      "Epoch 12/30\n",
      "500/500 [==============================] - 1s 3ms/step - loss: 1.5671 - accuracy: 0.4439\n",
      "Epoch 13/30\n",
      "500/500 [==============================] - 1s 2ms/step - loss: 1.5541 - accuracy: 0.4497\n",
      "Epoch 14/30\n",
      "500/500 [==============================] - 1s 3ms/step - loss: 1.5395 - accuracy: 0.4548\n",
      "Epoch 15/30\n",
      "500/500 [==============================] - 1s 3ms/step - loss: 1.5306 - accuracy: 0.4559\n",
      "Epoch 16/30\n",
      "500/500 [==============================] - 2s 3ms/step - loss: 1.5172 - accuracy: 0.4601\n",
      "Epoch 17/30\n",
      "500/500 [==============================] - 1s 3ms/step - loss: 1.5068 - accuracy: 0.4661\n",
      "Epoch 18/30\n",
      "500/500 [==============================] - 1s 3ms/step - loss: 1.4959 - accuracy: 0.4709\n",
      "Epoch 19/30\n",
      "500/500 [==============================] - 2s 3ms/step - loss: 1.4882 - accuracy: 0.4723\n",
      "Epoch 20/30\n",
      "500/500 [==============================] - 2s 3ms/step - loss: 1.4790 - accuracy: 0.4760\n",
      "Epoch 21/30\n",
      "500/500 [==============================] - 2s 3ms/step - loss: 1.4670 - accuracy: 0.4809\n",
      "Epoch 22/30\n",
      "500/500 [==============================] - 2s 3ms/step - loss: 1.4579 - accuracy: 0.4826\n",
      "Epoch 23/30\n",
      "500/500 [==============================] - 1s 3ms/step - loss: 1.4508 - accuracy: 0.4843\n",
      "Epoch 24/30\n",
      "500/500 [==============================] - 1s 3ms/step - loss: 1.4456 - accuracy: 0.4879\n",
      "Epoch 25/30\n",
      "500/500 [==============================] - 2s 3ms/step - loss: 1.4351 - accuracy: 0.4925\n",
      "Epoch 26/30\n",
      "500/500 [==============================] - 1s 3ms/step - loss: 1.4302 - accuracy: 0.4922\n",
      "Epoch 27/30\n",
      "500/500 [==============================] - 1s 3ms/step - loss: 1.4233 - accuracy: 0.4941\n",
      "Epoch 28/30\n",
      "500/500 [==============================] - 1s 3ms/step - loss: 1.4181 - accuracy: 0.4980\n",
      "Epoch 29/30\n",
      "500/500 [==============================] - 1s 3ms/step - loss: 1.4143 - accuracy: 0.4984\n",
      "Epoch 30/30\n",
      "500/500 [==============================] - 1s 3ms/step - loss: 1.4061 - accuracy: 0.5015\n"
     ]
    },
    {
     "data": {
      "text/plain": [
       "<keras.src.callbacks.History at 0x1f416f6abc0>"
      ]
     },
     "execution_count": 12,
     "metadata": {},
     "output_type": "execute_result"
    }
   ],
   "source": [
    "from keras.utils import to_categorical\n",
    "\n",
    "Y_train = to_categorical(y_train, 10)\n",
    "\n",
    "model.fit(x_train,Y_train,epochs=30, batch_size=100)"
   ]
  },
  {
   "cell_type": "code",
   "execution_count": 13,
   "id": "0ffdd420",
   "metadata": {},
   "outputs": [
    {
     "data": {
      "text/plain": [
       "(10000, 3072)"
      ]
     },
     "execution_count": 13,
     "metadata": {},
     "output_type": "execute_result"
    }
   ],
   "source": [
    "x_test.shape"
   ]
  },
  {
   "cell_type": "code",
   "execution_count": 14,
   "id": "7bb94310",
   "metadata": {},
   "outputs": [],
   "source": [
    "X_test = x_test.to_numpy().reshape(x_test.shape[0],32,32,3)"
   ]
  },
  {
   "cell_type": "code",
   "execution_count": 15,
   "id": "55212948",
   "metadata": {},
   "outputs": [
    {
     "data": {
      "text/plain": [
       "(10000, 32, 32, 3)"
      ]
     },
     "execution_count": 15,
     "metadata": {},
     "output_type": "execute_result"
    }
   ],
   "source": [
    "X_test.shape"
   ]
  },
  {
   "cell_type": "code",
   "execution_count": 16,
   "id": "0b6557a2",
   "metadata": {},
   "outputs": [],
   "source": [
    "X_train = x_train.to_numpy().reshape(x_train.shape[0], 32,32,3)"
   ]
  },
  {
   "cell_type": "code",
   "execution_count": 17,
   "id": "d3932ee3",
   "metadata": {},
   "outputs": [
    {
     "name": "stdout",
     "output_type": "stream",
     "text": [
      "313/313 [==============================] - 0s 871us/step\n"
     ]
    }
   ],
   "source": [
    "pred = model.predict(x_test)"
   ]
  },
  {
   "cell_type": "code",
   "execution_count": 23,
   "id": "5126ea79",
   "metadata": {},
   "outputs": [
    {
     "name": "stdout",
     "output_type": "stream",
     "text": [
      "pixel_0       0.584314\n",
      "pixel_1       0.611765\n",
      "pixel_2       0.666667\n",
      "pixel_3       0.635294\n",
      "pixel_4       0.643137\n",
      "                ...   \n",
      "pixel_3067    0.580392\n",
      "pixel_3068    0.560784\n",
      "pixel_3069    0.603922\n",
      "pixel_3070    0.501961\n",
      "pixel_3071    0.509804\n",
      "Name: 129, Length: 3072, dtype: float32\n"
     ]
    },
    {
     "data": {
      "text/plain": [
       "(-0.5, 31.5, 31.5, -0.5)"
      ]
     },
     "execution_count": 23,
     "metadata": {},
     "output_type": "execute_result"
    },
    {
     "data": {
      "image/png": "[encoded data removed]",
      "text/plain": [
       "<Figure size 640x480 with 1 Axes>"
      ]
     },
     "metadata": {},
     "output_type": "display_data"
    }
   ],
   "source": [
    "import numpy as np\n",
    "class_names = ['Airplane', 'Automobile', 'Bird', 'Cat', 'Deer', 'Dog', 'Frog', 'Horse', 'Ship', 'Truck']\n",
    "\n",
    "import random\n",
    "\n",
    "n = random.randint(0,1000)\n",
    "pred_ind = np.argmax(pred[n])\n",
    "pred_class = class_names[pred_ind]\n",
    "plt.imshow(X_test[n])\n",
    "print(x_test.iloc[n])\n",
    "plt.title(pred_class)\n",
    "plt.axis('off')"
   ]
  },
  {
   "cell_type": "code",
   "execution_count": null,
   "id": "556a9f0d",
   "metadata": {},
   "outputs": [],
   "source": []
  },
  {
   "cell_type": "code",
   "execution_count": null,
   "id": "e2b6c06c",
   "metadata": {},
   "outputs": [],
   "source": []
  },
  {
   "cell_type": "code",
   "execution_count": null,
   "id": "edd5bf57",
   "metadata": {},
   "outputs": [],
   "source": []
  }
 ],
 "metadata": {
  "kernelspec": {
   "display_name": "Python 3 (ipykernel)",
   "language": "python",
   "name": "python3"
  },
  "language_info": {
   "codemirror_mode": {
    "name": "ipython",
    "version": 3
   },
   "file_extension": ".py",
   "mimetype": "text/x-python",
   "name": "python",
   "nbconvert_exporter": "python",
   "pygments_lexer": "ipython3",
   "version": "3.10.9"
  }
 },
 "nbformat": 4,
 "nbformat_minor": 5
}
