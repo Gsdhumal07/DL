{
 "cells": [
  {
   "cell_type": "code",
   "execution_count": 1,
   "id": "32c85c16",
   "metadata": {},
   "outputs": [],
   "source": [
    "from tensorflow.keras.datasets import mnist\n",
    "from tensorflow.keras.layers import Dense\n",
    "from tensorflow.keras.models import Sequential\n",
    "import matplotlib.pyplot as plt\n",
    "import numpy as np"
   ]
  },
  {
   "cell_type": "code",
   "execution_count": 2,
   "id": "249ffec0",
   "metadata": {},
   "outputs": [],
   "source": [
    "# (x_train, y_train), (x_test, y_test) = mnist.load_data()\n",
    "import pandas as pd\n",
    "\n",
    "data = pd.read_csv('mnist_784_csv.csv')\n",
    "\n",
    "x = data.iloc[:,0:784]\n",
    "y = data['class']"
   ]
  },
  {
   "cell_type": "code",
   "execution_count": 3,
   "id": "0426e705",
   "metadata": {},
   "outputs": [
    {
     "data": {
      "text/plain": [
       "(70000, 784)"
      ]
     },
     "execution_count": 3,
     "metadata": {},
     "output_type": "execute_result"
    }
   ],
   "source": [
    "x.shape"
   ]
  },
  {
   "cell_type": "code",
   "execution_count": 4,
   "id": "f1affe67",
   "metadata": {},
   "outputs": [
    {
     "data": {
      "text/plain": [
       "(70000,)"
      ]
     },
     "execution_count": 4,
     "metadata": {},
     "output_type": "execute_result"
    }
   ],
   "source": [
    "y.shape"
   ]
  },
  {
   "cell_type": "code",
   "execution_count": 5,
   "id": "a9686350",
   "metadata": {},
   "outputs": [],
   "source": [
    "from sklearn.model_selection import train_test_split\n",
    "\n",
    "x_train, x_test, y_train, y_test = train_test_split(x, y, test_size=0.3)"
   ]
  },
  {
   "cell_type": "code",
   "execution_count": 6,
   "id": "967cecf3",
   "metadata": {},
   "outputs": [
    {
     "data": {
      "text/plain": [
       "(49000, 784)"
      ]
     },
     "execution_count": 6,
     "metadata": {},
     "output_type": "execute_result"
    }
   ],
   "source": [
    "x_train.shape"
   ]
  },
  {
   "cell_type": "code",
   "execution_count": 7,
   "id": "3ee4162b",
   "metadata": {},
   "outputs": [
    {
     "data": {
      "text/plain": [
       "(21000, 784)"
      ]
     },
     "execution_count": 7,
     "metadata": {},
     "output_type": "execute_result"
    }
   ],
   "source": [
    "x_test.shape"
   ]
  },
  {
   "cell_type": "code",
   "execution_count": 8,
   "id": "e94b0ef7",
   "metadata": {},
   "outputs": [],
   "source": [
    "x_train = x_train/255\n",
    "x_test = x_test/255"
   ]
  },
  {
   "cell_type": "code",
   "execution_count": 9,
   "id": "38650a5b",
   "metadata": {},
   "outputs": [],
   "source": [
    "x_train = x_train.to_numpy().reshape(x_train.shape[0],28*28)"
   ]
  },
  {
   "cell_type": "code",
   "execution_count": 10,
   "id": "4c20716e",
   "metadata": {},
   "outputs": [],
   "source": [
    "x_test = x_test.to_numpy().reshape(x_test.shape[0],28*28)"
   ]
  },
  {
   "cell_type": "code",
   "execution_count": 11,
   "id": "94feabde",
   "metadata": {},
   "outputs": [
    {
     "data": {
      "text/plain": [
       "(21000, 784)"
      ]
     },
     "execution_count": 11,
     "metadata": {},
     "output_type": "execute_result"
    }
   ],
   "source": [
    "x_test.shape"
   ]
  },
  {
   "cell_type": "code",
   "execution_count": 12,
   "id": "0dba097b",
   "metadata": {},
   "outputs": [
    {
     "data": {
      "text/plain": [
       "(49000, 784)"
      ]
     },
     "execution_count": 12,
     "metadata": {},
     "output_type": "execute_result"
    }
   ],
   "source": [
    "x_train.shape"
   ]
  },
  {
   "cell_type": "code",
   "execution_count": 13,
   "id": "65218152",
   "metadata": {},
   "outputs": [],
   "source": [
    "noise_factor = 0.2\n",
    "x_train_noisy = x_train + noise_factor*np.random.normal(loc=0.0, scale=1.0,size=x_train.shape)\n",
    "x_test_noisy = x_test + noise_factor*np.random.normal(loc=0.0, scale=1.0,size=x_test.shape)"
   ]
  },
  {
   "cell_type": "code",
   "execution_count": 14,
   "id": "b7f2d0e4",
   "metadata": {},
   "outputs": [],
   "source": [
    "# It helps to prevent unexpected or unrealistic values that might be introduced during the process of adding noise or other\n",
    "# transformations to the data.\n",
    "x_train_noisy = np.clip(x_train_noisy,0.,1.)\n",
    "x_test_noisy = np.clip(x_test_noisy,0.,1.)"
   ]
  },
  {
   "cell_type": "code",
   "execution_count": 15,
   "id": "ed2e5f5d",
   "metadata": {},
   "outputs": [
    {
     "data": {
      "text/plain": [
       "(49000, 784)"
      ]
     },
     "execution_count": 15,
     "metadata": {},
     "output_type": "execute_result"
    }
   ],
   "source": [
    "x_train_noisy.shape"
   ]
  },
  {
   "cell_type": "code",
   "execution_count": 16,
   "id": "ca55639d",
   "metadata": {},
   "outputs": [
    {
     "data": {
      "text/plain": [
       "(21000, 784)"
      ]
     },
     "execution_count": 16,
     "metadata": {},
     "output_type": "execute_result"
    }
   ],
   "source": [
    "x_test_noisy.shape"
   ]
  },
  {
   "cell_type": "code",
   "execution_count": 18,
   "id": "3046ca96",
   "metadata": {},
   "outputs": [],
   "source": [
    "X_Train = x_train.reshape(x_train.shape[0],28,28)\n",
    "X_Test = x_test.reshape(x_test.shape[0],28,28)"
   ]
  },
  {
   "cell_type": "code",
   "execution_count": 19,
   "id": "f9e8a96c",
   "metadata": {},
   "outputs": [
    {
     "data": {
      "text/plain": [
       "(49000, 28, 28)"
      ]
     },
     "execution_count": 19,
     "metadata": {},
     "output_type": "execute_result"
    }
   ],
   "source": [
    "X_Train.shape"
   ]
  },
  {
   "cell_type": "code",
   "execution_count": 20,
   "id": "a0df5332",
   "metadata": {},
   "outputs": [
    {
     "data": {
      "text/plain": [
       "(21000, 28, 28)"
      ]
     },
     "execution_count": 20,
     "metadata": {},
     "output_type": "execute_result"
    }
   ],
   "source": [
    "X_Test.shape"
   ]
  },
  {
   "cell_type": "code",
   "execution_count": 21,
   "id": "d64307cc",
   "metadata": {},
   "outputs": [],
   "source": [
    "model = Sequential()\n",
    "model.add(Dense(500, input_shape = (28*28,), activation = 'relu'))\n",
    "model.add(Dense(300, activation = 'relu'))\n",
    "model.add(Dense(100, activation = 'relu'))\n",
    "model.add(Dense(300, activation = 'relu'))\n",
    "model.add(Dense(500, activation = 'relu'))\n",
    "model.add(Dense(784, activation = 'sigmoid'))"
   ]
  },
  {
   "cell_type": "code",
   "execution_count": 22,
   "id": "ea878ecc",
   "metadata": {},
   "outputs": [],
   "source": [
    "model.compile(loss='mean_squared_error', optimizer = 'adam')"
   ]
  },
  {
   "cell_type": "code",
   "execution_count": 23,
   "id": "42ce8132",
   "metadata": {},
   "outputs": [
    {
     "name": "stdout",
     "output_type": "stream",
     "text": [
      "Epoch 1/20\n",
      "490/490 [==============================] - 25s 38ms/step - loss: 0.0339\n",
      "Epoch 2/20\n",
      "490/490 [==============================] - 20s 42ms/step - loss: 0.0145\n",
      "Epoch 3/20\n",
      "490/490 [==============================] - 12s 25ms/step - loss: 0.0114\n",
      "Epoch 4/20\n",
      "490/490 [==============================] - 10s 20ms/step - loss: 0.0098\n",
      "Epoch 5/20\n",
      "490/490 [==============================] - 9s 19ms/step - loss: 0.0088\n",
      "Epoch 6/20\n",
      "490/490 [==============================] - 9s 19ms/step - loss: 0.0082\n",
      "Epoch 7/20\n",
      "490/490 [==============================] - 11s 22ms/step - loss: 0.0077\n",
      "Epoch 8/20\n",
      "490/490 [==============================] - 10s 21ms/step - loss: 0.0073\n",
      "Epoch 9/20\n",
      "490/490 [==============================] - 9s 19ms/step - loss: 0.0069\n",
      "Epoch 10/20\n",
      "490/490 [==============================] - 9s 18ms/step - loss: 0.0067\n",
      "Epoch 11/20\n",
      "490/490 [==============================] - 8s 17ms/step - loss: 0.0064\n",
      "Epoch 12/20\n",
      "490/490 [==============================] - 9s 17ms/step - loss: 0.0063\n",
      "Epoch 13/20\n",
      "490/490 [==============================] - 8s 17ms/step - loss: 0.0061\n",
      "Epoch 14/20\n",
      "490/490 [==============================] - 8s 17ms/step - loss: 0.0060\n",
      "Epoch 15/20\n",
      "490/490 [==============================] - 8s 17ms/step - loss: 0.0058\n",
      "Epoch 16/20\n",
      "490/490 [==============================] - 10s 19ms/step - loss: 0.0057\n",
      "Epoch 17/20\n",
      "490/490 [==============================] - 9s 19ms/step - loss: 0.0056\n",
      "Epoch 18/20\n",
      "490/490 [==============================] - 9s 19ms/step - loss: 0.0055\n",
      "Epoch 19/20\n",
      "490/490 [==============================] - 19s 40ms/step - loss: 0.0054\n",
      "Epoch 20/20\n",
      "490/490 [==============================] - 21s 44ms/step - loss: 0.0053\n"
     ]
    }
   ],
   "source": [
    "H = model.fit(x_train_noisy, x_train, epochs = 20, batch_size = 100)"
   ]
  },
  {
   "cell_type": "code",
   "execution_count": 24,
   "id": "7619f505",
   "metadata": {},
   "outputs": [
    {
     "name": "stdout",
     "output_type": "stream",
     "text": [
      "657/657 [==============================] - 9s 12ms/step\n"
     ]
    }
   ],
   "source": [
    "pred = model.predict(x_test)"
   ]
  },
  {
   "cell_type": "code",
   "execution_count": 25,
   "id": "d52e09c9",
   "metadata": {},
   "outputs": [],
   "source": [
    "pred = pred.reshape(pred.shape[0], 28, 28)"
   ]
  },
  {
   "cell_type": "code",
   "execution_count": 26,
   "id": "a9c79d64",
   "metadata": {},
   "outputs": [],
   "source": [
    "X_TEST_NOISY = x_test_noisy.reshape(x_test_noisy.shape[0],28,28)"
   ]
  },
  {
   "cell_type": "code",
   "execution_count": 27,
   "id": "6600a797",
   "metadata": {},
   "outputs": [
    {
     "name": "stdout",
     "output_type": "stream",
     "text": [
      "input\n"
     ]
    },
    {
     "data": {
      "text/plain": [
       "<matplotlib.image.AxesImage at 0x1bcc8b2e500>"
      ]
     },
     "execution_count": 27,
     "metadata": {},
     "output_type": "execute_result"
    },
    {
     "data": {
      "image/png": "[encoded data removed]",
      "text/plain": [
       "<Figure size 640x480 with 1 Axes>"
      ]
     },
     "metadata": {},
     "output_type": "display_data"
    }
   ],
   "source": [
    "import random\n",
    "\n",
    "n=random.randint(0,1000)\n",
    "print(\"input\")\n",
    "plt.imshow(X_TEST_NOISY[n])"
   ]
  },
  {
   "cell_type": "code",
   "execution_count": 28,
   "id": "c73107ee",
   "metadata": {},
   "outputs": [
    {
     "name": "stdout",
     "output_type": "stream",
     "text": [
      "output\n"
     ]
    },
    {
     "data": {
      "text/plain": [
       "<matplotlib.image.AxesImage at 0x1bcc819f820>"
      ]
     },
     "execution_count": 28,
     "metadata": {},
     "output_type": "execute_result"
    },
    {
     "data": {
      "image/png": "[encoded data removed]",
      "text/plain": [
       "<Figure size 640x480 with 1 Axes>"
      ]
     },
     "metadata": {},
     "output_type": "display_data"
    }
   ],
   "source": [
    "print(\"output\")\n",
    "plt.imshow(pred[n])"
   ]
  },
  {
   "cell_type": "code",
   "execution_count": 29,
   "id": "22110439",
   "metadata": {},
   "outputs": [
    {
     "name": "stdout",
     "output_type": "stream",
     "text": [
      "target\n"
     ]
    },
    {
     "data": {
      "text/plain": [
       "<matplotlib.image.AxesImage at 0x1bcc8c19030>"
      ]
     },
     "execution_count": 29,
     "metadata": {},
     "output_type": "execute_result"
    },
    {
     "data": {
      "image/png": "[encoded data removed]",
      "text/plain": [
       "<Figure size 640x480 with 1 Axes>"
      ]
     },
     "metadata": {},
     "output_type": "display_data"
    }
   ],
   "source": [
    "print(\"target\")\n",
    "plt.imshow(X_Test[n])"
   ]
  },
  {
   "cell_type": "code",
   "execution_count": null,
   "id": "f817cf45",
   "metadata": {},
   "outputs": [],
   "source": []
  },
  {
   "cell_type": "code",
   "execution_count": null,
   "id": "7dcc3fba",
   "metadata": {},
   "outputs": [],
   "source": []
  }
 ],
 "metadata": {
  "kernelspec": {
   "display_name": "Python 3 (ipykernel)",
   "language": "python",
   "name": "python3"
  },
  "language_info": {
   "codemirror_mode": {
    "name": "ipython",
    "version": 3
   },
   "file_extension": ".py",
   "mimetype": "text/x-python",
   "name": "python",
   "nbconvert_exporter": "python",
   "pygments_lexer": "ipython3",
   "version": "3.10.9"
  }
 },
 "nbformat": 4,
 "nbformat_minor": 5
}
