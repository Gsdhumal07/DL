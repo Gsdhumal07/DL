{
 "cells": [
  {
   "cell_type": "code",
   "execution_count": 1,
   "id": "1e066f87",
   "metadata": {},
   "outputs": [],
   "source": [
    "from tensorflow.keras.models import Sequential\n",
    "from tensorflow.keras.layers import Dense, Input\n",
    "from tensorflow.keras.models import Sequential, Model\n",
    "from tensorflow.keras.datasets import mnist\n",
    "from keras import regularizers"
   ]
  },
  {
   "cell_type": "code",
   "execution_count": 2,
   "id": "625d3770",
   "metadata": {},
   "outputs": [],
   "source": [
    "# (x_train, y_train), (x_test, y_test) = mnist.load_data()\n",
    "import pandas as pd\n",
    "\n",
    "data = pd.read_csv('mnist_784_csv.csv')"
   ]
  },
  {
   "cell_type": "code",
   "execution_count": 3,
   "id": "18d79971",
   "metadata": {},
   "outputs": [
    {
     "data": {
      "text/html": [
       "<div>\n",
       "<style scoped>\n",
       "    .dataframe tbody tr th:only-of-type {\n",
       "        vertical-align: middle;\n",
       "    }\n",
       "\n",
       "    .dataframe tbody tr th {\n",
       "        vertical-align: top;\n",
       "    }\n",
       "\n",
       "    .dataframe thead th {\n",
       "        text-align: right;\n",
       "    }\n",
       "</style>\n",
       "<table border=\"1\" class=\"dataframe\">\n",
       "  <thead>\n",
       "    <tr style=\"text-align: right;\">\n",
       "      <th></th>\n",
       "      <th>pixel1</th>\n",
       "      <th>pixel2</th>\n",
       "      <th>pixel3</th>\n",
       "      <th>pixel4</th>\n",
       "      <th>pixel5</th>\n",
       "      <th>pixel6</th>\n",
       "      <th>pixel7</th>\n",
       "      <th>pixel8</th>\n",
       "      <th>pixel9</th>\n",
       "      <th>pixel10</th>\n",
       "      <th>...</th>\n",
       "      <th>pixel776</th>\n",
       "      <th>pixel777</th>\n",
       "      <th>pixel778</th>\n",
       "      <th>pixel779</th>\n",
       "      <th>pixel780</th>\n",
       "      <th>pixel781</th>\n",
       "      <th>pixel782</th>\n",
       "      <th>pixel783</th>\n",
       "      <th>pixel784</th>\n",
       "      <th>class</th>\n",
       "    </tr>\n",
       "  </thead>\n",
       "  <tbody>\n",
       "    <tr>\n",
       "      <th>0</th>\n",
       "      <td>0</td>\n",
       "      <td>0</td>\n",
       "      <td>0</td>\n",
       "      <td>0</td>\n",
       "      <td>0</td>\n",
       "      <td>0</td>\n",
       "      <td>0</td>\n",
       "      <td>0</td>\n",
       "      <td>0</td>\n",
       "      <td>0</td>\n",
       "      <td>...</td>\n",
       "      <td>0</td>\n",
       "      <td>0</td>\n",
       "      <td>0</td>\n",
       "      <td>0</td>\n",
       "      <td>0</td>\n",
       "      <td>0</td>\n",
       "      <td>0</td>\n",
       "      <td>0</td>\n",
       "      <td>0</td>\n",
       "      <td>5</td>\n",
       "    </tr>\n",
       "    <tr>\n",
       "      <th>1</th>\n",
       "      <td>0</td>\n",
       "      <td>0</td>\n",
       "      <td>0</td>\n",
       "      <td>0</td>\n",
       "      <td>0</td>\n",
       "      <td>0</td>\n",
       "      <td>0</td>\n",
       "      <td>0</td>\n",
       "      <td>0</td>\n",
       "      <td>0</td>\n",
       "      <td>...</td>\n",
       "      <td>0</td>\n",
       "      <td>0</td>\n",
       "      <td>0</td>\n",
       "      <td>0</td>\n",
       "      <td>0</td>\n",
       "      <td>0</td>\n",
       "      <td>0</td>\n",
       "      <td>0</td>\n",
       "      <td>0</td>\n",
       "      <td>0</td>\n",
       "    </tr>\n",
       "    <tr>\n",
       "      <th>2</th>\n",
       "      <td>0</td>\n",
       "      <td>0</td>\n",
       "      <td>0</td>\n",
       "      <td>0</td>\n",
       "      <td>0</td>\n",
       "      <td>0</td>\n",
       "      <td>0</td>\n",
       "      <td>0</td>\n",
       "      <td>0</td>\n",
       "      <td>0</td>\n",
       "      <td>...</td>\n",
       "      <td>0</td>\n",
       "      <td>0</td>\n",
       "      <td>0</td>\n",
       "      <td>0</td>\n",
       "      <td>0</td>\n",
       "      <td>0</td>\n",
       "      <td>0</td>\n",
       "      <td>0</td>\n",
       "      <td>0</td>\n",
       "      <td>4</td>\n",
       "    </tr>\n",
       "    <tr>\n",
       "      <th>3</th>\n",
       "      <td>0</td>\n",
       "      <td>0</td>\n",
       "      <td>0</td>\n",
       "      <td>0</td>\n",
       "      <td>0</td>\n",
       "      <td>0</td>\n",
       "      <td>0</td>\n",
       "      <td>0</td>\n",
       "      <td>0</td>\n",
       "      <td>0</td>\n",
       "      <td>...</td>\n",
       "      <td>0</td>\n",
       "      <td>0</td>\n",
       "      <td>0</td>\n",
       "      <td>0</td>\n",
       "      <td>0</td>\n",
       "      <td>0</td>\n",
       "      <td>0</td>\n",
       "      <td>0</td>\n",
       "      <td>0</td>\n",
       "      <td>1</td>\n",
       "    </tr>\n",
       "    <tr>\n",
       "      <th>4</th>\n",
       "      <td>0</td>\n",
       "      <td>0</td>\n",
       "      <td>0</td>\n",
       "      <td>0</td>\n",
       "      <td>0</td>\n",
       "      <td>0</td>\n",
       "      <td>0</td>\n",
       "      <td>0</td>\n",
       "      <td>0</td>\n",
       "      <td>0</td>\n",
       "      <td>...</td>\n",
       "      <td>0</td>\n",
       "      <td>0</td>\n",
       "      <td>0</td>\n",
       "      <td>0</td>\n",
       "      <td>0</td>\n",
       "      <td>0</td>\n",
       "      <td>0</td>\n",
       "      <td>0</td>\n",
       "      <td>0</td>\n",
       "      <td>9</td>\n",
       "    </tr>\n",
       "  </tbody>\n",
       "</table>\n",
       "<p>5 rows × 785 columns</p>\n",
       "</div>"
      ],
      "text/plain": [
       "   pixel1  pixel2  pixel3  pixel4  pixel5  pixel6  pixel7  pixel8  pixel9  \\\n",
       "0       0       0       0       0       0       0       0       0       0   \n",
       "1       0       0       0       0       0       0       0       0       0   \n",
       "2       0       0       0       0       0       0       0       0       0   \n",
       "3       0       0       0       0       0       0       0       0       0   \n",
       "4       0       0       0       0       0       0       0       0       0   \n",
       "\n",
       "   pixel10  ...  pixel776  pixel777  pixel778  pixel779  pixel780  pixel781  \\\n",
       "0        0  ...         0         0         0         0         0         0   \n",
       "1        0  ...         0         0         0         0         0         0   \n",
       "2        0  ...         0         0         0         0         0         0   \n",
       "3        0  ...         0         0         0         0         0         0   \n",
       "4        0  ...         0         0         0         0         0         0   \n",
       "\n",
       "   pixel782  pixel783  pixel784  class  \n",
       "0         0         0         0      5  \n",
       "1         0         0         0      0  \n",
       "2         0         0         0      4  \n",
       "3         0         0         0      1  \n",
       "4         0         0         0      9  \n",
       "\n",
       "[5 rows x 785 columns]"
      ]
     },
     "execution_count": 3,
     "metadata": {},
     "output_type": "execute_result"
    }
   ],
   "source": [
    "data.head()"
   ]
  },
  {
   "cell_type": "code",
   "execution_count": 4,
   "id": "f9b6f718",
   "metadata": {},
   "outputs": [],
   "source": [
    "x = data.iloc[:,0:784]\n",
    "y = data['class']"
   ]
  },
  {
   "cell_type": "code",
   "execution_count": 5,
   "id": "3b9b16fc",
   "metadata": {},
   "outputs": [
    {
     "data": {
      "text/plain": [
       "(70000, 784)"
      ]
     },
     "execution_count": 5,
     "metadata": {},
     "output_type": "execute_result"
    }
   ],
   "source": [
    "x.shape"
   ]
  },
  {
   "cell_type": "code",
   "execution_count": 6,
   "id": "df247fa6",
   "metadata": {},
   "outputs": [
    {
     "data": {
      "text/plain": [
       "(70000,)"
      ]
     },
     "execution_count": 6,
     "metadata": {},
     "output_type": "execute_result"
    }
   ],
   "source": [
    "y.shape"
   ]
  },
  {
   "cell_type": "code",
   "execution_count": 7,
   "id": "5f7fe2d0",
   "metadata": {},
   "outputs": [],
   "source": [
    "from sklearn.model_selection import train_test_split"
   ]
  },
  {
   "cell_type": "code",
   "execution_count": 8,
   "id": "ad55c6e3",
   "metadata": {},
   "outputs": [],
   "source": [
    "x_train, x_test, y_train, y_test = train_test_split(x, y, test_size=0.3)"
   ]
  },
  {
   "cell_type": "code",
   "execution_count": 9,
   "id": "1d8dfbe8",
   "metadata": {},
   "outputs": [
    {
     "data": {
      "text/plain": [
       "(49000, 784)"
      ]
     },
     "execution_count": 9,
     "metadata": {},
     "output_type": "execute_result"
    }
   ],
   "source": [
    "x_train.shape"
   ]
  },
  {
   "cell_type": "code",
   "execution_count": 10,
   "id": "7ca72d89",
   "metadata": {},
   "outputs": [
    {
     "data": {
      "text/plain": [
       "(21000, 784)"
      ]
     },
     "execution_count": 10,
     "metadata": {},
     "output_type": "execute_result"
    }
   ],
   "source": [
    "x_test.shape"
   ]
  },
  {
   "cell_type": "code",
   "execution_count": 11,
   "id": "9e247df6",
   "metadata": {},
   "outputs": [],
   "source": [
    "x_train = x_train.astype('float32')/255"
   ]
  },
  {
   "cell_type": "code",
   "execution_count": 12,
   "id": "0cd7e88a",
   "metadata": {},
   "outputs": [],
   "source": [
    "x_test = x_test.astype('float32')/255"
   ]
  },
  {
   "cell_type": "code",
   "execution_count": 13,
   "id": "5b4d9f8d",
   "metadata": {},
   "outputs": [],
   "source": [
    "X_train = x_train.to_numpy().reshape(x_train.shape[0],28*28)\n",
    "X_test = x_test.to_numpy().reshape(x_test.shape[0],28*28)"
   ]
  },
  {
   "cell_type": "code",
   "execution_count": 14,
   "id": "e1f4bdba",
   "metadata": {},
   "outputs": [
    {
     "data": {
      "text/plain": [
       "(49000, 784)"
      ]
     },
     "execution_count": 14,
     "metadata": {},
     "output_type": "execute_result"
    }
   ],
   "source": [
    "X_train.shape"
   ]
  },
  {
   "cell_type": "code",
   "execution_count": 15,
   "id": "a9d10e72",
   "metadata": {},
   "outputs": [
    {
     "data": {
      "text/plain": [
       "(21000, 784)"
      ]
     },
     "execution_count": 15,
     "metadata": {},
     "output_type": "execute_result"
    }
   ],
   "source": [
    "X_test.shape"
   ]
  },
  {
   "cell_type": "code",
   "execution_count": 16,
   "id": "9b5735d1",
   "metadata": {},
   "outputs": [],
   "source": [
    "input_layer = Input(shape = (28*28,))"
   ]
  },
  {
   "cell_type": "code",
   "execution_count": 17,
   "id": "6a8364a2",
   "metadata": {},
   "outputs": [],
   "source": [
    "encode = Dense(500, activation = 'relu', activity_regularizer = regularizers.l1(10e-5))(input_layer)\n",
    "encode = Dense(300, activation = 'relu')(encode)"
   ]
  },
  {
   "cell_type": "code",
   "execution_count": 18,
   "id": "fbe63cbb",
   "metadata": {},
   "outputs": [],
   "source": [
    "decode = Dense(300, activation = 'sigmoid')(encode)\n",
    "decode = Dense(500, activation = 'sigmoid')(decode)"
   ]
  },
  {
   "cell_type": "code",
   "execution_count": 19,
   "id": "2732f902",
   "metadata": {},
   "outputs": [],
   "source": [
    "output_layer = Dense(784, activation = 'sigmoid')(decode)"
   ]
  },
  {
   "cell_type": "code",
   "execution_count": 20,
   "id": "8dcbe155",
   "metadata": {},
   "outputs": [],
   "source": [
    "autoencoder = Model(input_layer, output_layer)"
   ]
  },
  {
   "cell_type": "code",
   "execution_count": 21,
   "id": "d7c832ef",
   "metadata": {},
   "outputs": [],
   "source": [
    "autoencoder.compile(loss='binary_crossentropy', optimizer='adam')"
   ]
  },
  {
   "cell_type": "code",
   "execution_count": 22,
   "id": "2f78d4c4",
   "metadata": {},
   "outputs": [
    {
     "name": "stdout",
     "output_type": "stream",
     "text": [
      "Epoch 1/50\n",
      "490/490 [==============================] - 10s 18ms/step - loss: 0.2497\n",
      "Epoch 2/50\n",
      "490/490 [==============================] - 13s 26ms/step - loss: 0.1796\n",
      "Epoch 3/50\n",
      "490/490 [==============================] - 9s 19ms/step - loss: 0.1445\n",
      "Epoch 4/50\n",
      "490/490 [==============================] - 9s 18ms/step - loss: 0.1271\n",
      "Epoch 5/50\n",
      "490/490 [==============================] - 11s 22ms/step - loss: 0.1165\n",
      "Epoch 6/50\n",
      "490/490 [==============================] - 9s 18ms/step - loss: 0.1090\n",
      "Epoch 7/50\n",
      "490/490 [==============================] - 9s 19ms/step - loss: 0.1034\n",
      "Epoch 8/50\n",
      "490/490 [==============================] - 11s 23ms/step - loss: 0.0993\n",
      "Epoch 9/50\n",
      "490/490 [==============================] - 12s 24ms/step - loss: 0.0960\n",
      "Epoch 10/50\n",
      "490/490 [==============================] - 10s 20ms/step - loss: 0.0932\n",
      "Epoch 11/50\n",
      "490/490 [==============================] - 8s 17ms/step - loss: 0.0911\n",
      "Epoch 12/50\n",
      "490/490 [==============================] - 9s 18ms/step - loss: 0.0896\n",
      "Epoch 13/50\n",
      "490/490 [==============================] - 9s 18ms/step - loss: 0.0883\n",
      "Epoch 14/50\n",
      "490/490 [==============================] - 8s 17ms/step - loss: 0.0873\n",
      "Epoch 15/50\n",
      "490/490 [==============================] - 10s 21ms/step - loss: 0.0863\n",
      "Epoch 16/50\n",
      "490/490 [==============================] - 10s 21ms/step - loss: 0.0855\n",
      "Epoch 17/50\n",
      "490/490 [==============================] - 11s 23ms/step - loss: 0.0847\n",
      "Epoch 18/50\n",
      "490/490 [==============================] - 11s 23ms/step - loss: 0.0840\n",
      "Epoch 19/50\n",
      "490/490 [==============================] - 10s 21ms/step - loss: 0.0834\n",
      "Epoch 20/50\n",
      "490/490 [==============================] - 11s 23ms/step - loss: 0.0828\n",
      "Epoch 21/50\n",
      "490/490 [==============================] - 9s 19ms/step - loss: 0.0822\n",
      "Epoch 22/50\n",
      "490/490 [==============================] - 9s 19ms/step - loss: 0.0818\n",
      "Epoch 23/50\n",
      "490/490 [==============================] - 9s 19ms/step - loss: 0.0813\n",
      "Epoch 24/50\n",
      "490/490 [==============================] - 9s 19ms/step - loss: 0.0809\n",
      "Epoch 25/50\n",
      "490/490 [==============================] - 9s 19ms/step - loss: 0.0805\n",
      "Epoch 26/50\n",
      "490/490 [==============================] - 9s 19ms/step - loss: 0.0802\n",
      "Epoch 27/50\n",
      "490/490 [==============================] - 10s 19ms/step - loss: 0.0798\n",
      "Epoch 28/50\n",
      "490/490 [==============================] - 10s 19ms/step - loss: 0.0795\n",
      "Epoch 29/50\n",
      "490/490 [==============================] - 9s 19ms/step - loss: 0.0792\n",
      "Epoch 30/50\n",
      "490/490 [==============================] - 9s 19ms/step - loss: 0.0789\n",
      "Epoch 31/50\n",
      "490/490 [==============================] - 9s 19ms/step - loss: 0.0787\n",
      "Epoch 32/50\n",
      "490/490 [==============================] - 9s 19ms/step - loss: 0.0784\n",
      "Epoch 33/50\n",
      "490/490 [==============================] - 9s 19ms/step - loss: 0.0782\n",
      "Epoch 34/50\n",
      "490/490 [==============================] - 10s 20ms/step - loss: 0.0780\n",
      "Epoch 35/50\n",
      "490/490 [==============================] - 9s 19ms/step - loss: 0.0778\n",
      "Epoch 36/50\n",
      "490/490 [==============================] - 9s 18ms/step - loss: 0.0776\n",
      "Epoch 37/50\n",
      "490/490 [==============================] - 8s 17ms/step - loss: 0.0774\n",
      "Epoch 38/50\n",
      "490/490 [==============================] - 9s 19ms/step - loss: 0.0772\n",
      "Epoch 39/50\n",
      "490/490 [==============================] - 9s 18ms/step - loss: 0.0770\n",
      "Epoch 40/50\n",
      "490/490 [==============================] - 9s 17ms/step - loss: 0.0769\n",
      "Epoch 41/50\n",
      "490/490 [==============================] - 9s 18ms/step - loss: 0.0767\n",
      "Epoch 42/50\n",
      "490/490 [==============================] - 8s 17ms/step - loss: 0.0766\n",
      "Epoch 43/50\n",
      "490/490 [==============================] - 9s 18ms/step - loss: 0.0764\n",
      "Epoch 44/50\n",
      "490/490 [==============================] - 10s 20ms/step - loss: 0.0763\n",
      "Epoch 45/50\n",
      "490/490 [==============================] - 9s 19ms/step - loss: 0.0762\n",
      "Epoch 46/50\n",
      "490/490 [==============================] - 11s 22ms/step - loss: 0.0760\n",
      "Epoch 47/50\n",
      "490/490 [==============================] - 10s 20ms/step - loss: 0.0759\n",
      "Epoch 48/50\n",
      "490/490 [==============================] - 10s 20ms/step - loss: 0.0758\n",
      "Epoch 49/50\n",
      "490/490 [==============================] - 10s 20ms/step - loss: 0.0757\n",
      "Epoch 50/50\n",
      "490/490 [==============================] - 9s 18ms/step - loss: 0.0756\n"
     ]
    },
    {
     "data": {
      "text/plain": [
       "<keras.src.callbacks.History at 0x22f2c138bb0>"
      ]
     },
     "execution_count": 22,
     "metadata": {},
     "output_type": "execute_result"
    }
   ],
   "source": [
    "autoencoder.fit(X_train, X_train, epochs=50, batch_size = 100, shuffle=True)"
   ]
  },
  {
   "cell_type": "code",
   "execution_count": 23,
   "id": "70bd5f57",
   "metadata": {},
   "outputs": [],
   "source": [
    "x_test = x_test.to_numpy().reshape(x_test.shape[0],28,28)"
   ]
  },
  {
   "cell_type": "code",
   "execution_count": 24,
   "id": "226c8875",
   "metadata": {},
   "outputs": [
    {
     "name": "stdout",
     "output_type": "stream",
     "text": [
      "657/657 [==============================] - 2s 3ms/step\n"
     ]
    }
   ],
   "source": [
    "pred = autoencoder.predict(X_test)"
   ]
  },
  {
   "cell_type": "code",
   "execution_count": 25,
   "id": "ba468a94",
   "metadata": {},
   "outputs": [
    {
     "data": {
      "text/plain": [
       "(21000, 784)"
      ]
     },
     "execution_count": 25,
     "metadata": {},
     "output_type": "execute_result"
    }
   ],
   "source": [
    "pred.shape"
   ]
  },
  {
   "cell_type": "code",
   "execution_count": 26,
   "id": "48a0123c",
   "metadata": {},
   "outputs": [],
   "source": [
    "pred = pred.reshape(pred.shape[0], 28,28)"
   ]
  },
  {
   "cell_type": "code",
   "execution_count": 27,
   "id": "cb6c96d3",
   "metadata": {},
   "outputs": [],
   "source": [
    "import random \n",
    "\n",
    "n = random.randint(0,1000)"
   ]
  },
  {
   "cell_type": "code",
   "execution_count": 28,
   "id": "b47217a6",
   "metadata": {},
   "outputs": [
    {
     "name": "stdout",
     "output_type": "stream",
     "text": [
      "input\n"
     ]
    },
    {
     "data": {
      "text/plain": [
       "<matplotlib.image.AxesImage at 0x22f2dec0ac0>"
      ]
     },
     "execution_count": 28,
     "metadata": {},
     "output_type": "execute_result"
    },
    {
     "data": {
      "image/png": "[encoded data removed]",
      "text/plain": [
       "<Figure size 640x480 with 1 Axes>"
      ]
     },
     "metadata": {},
     "output_type": "display_data"
    }
   ],
   "source": [
    "import matplotlib.pyplot as plt\n",
    "\n",
    "print(\"input\")\n",
    "plt.imshow(x_test[n])"
   ]
  },
  {
   "cell_type": "code",
   "execution_count": 29,
   "id": "9bb64fed",
   "metadata": {},
   "outputs": [
    {
     "data": {
      "text/plain": [
       "<matplotlib.image.AxesImage at 0x22f2dfd5150>"
      ]
     },
     "execution_count": 29,
     "metadata": {},
     "output_type": "execute_result"
    },
    {
     "data": {
      "image/png": "[encoded data removed]",
      "text/plain": [
       "<Figure size 640x480 with 1 Axes>"
      ]
     },
     "metadata": {},
     "output_type": "display_data"
    }
   ],
   "source": [
    "plt.imshow(pred[n])"
   ]
  },
  {
   "cell_type": "code",
   "execution_count": null,
   "id": "557b8a9e",
   "metadata": {},
   "outputs": [],
   "source": []
  },
  {
   "cell_type": "code",
   "execution_count": null,
   "id": "f8ac37b1",
   "metadata": {},
   "outputs": [],
   "source": []
  },
  {
   "cell_type": "code",
   "execution_count": null,
   "id": "40e40531",
   "metadata": {},
   "outputs": [],
   "source": []
  }
 ],
 "metadata": {
  "kernelspec": {
   "display_name": "Python 3 (ipykernel)",
   "language": "python",
   "name": "python3"
  },
  "language_info": {
   "codemirror_mode": {
    "name": "ipython",
    "version": 3
   },
   "file_extension": ".py",
   "mimetype": "text/x-python",
   "name": "python",
   "nbconvert_exporter": "python",
   "pygments_lexer": "ipython3",
   "version": "3.10.9"
  }
 },
 "nbformat": 4,
 "nbformat_minor": 5
}
